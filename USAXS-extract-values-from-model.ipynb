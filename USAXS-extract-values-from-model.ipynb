{
 "cells": [
  {
   "cell_type": "markdown",
   "id": "ca2b975a-b9aa-41ad-83c3-439619b435c9",
   "metadata": {},
   "source": [
    "## Extract Required Values From USAXS Modeling"
   ]
  },
  {
   "cell_type": "code",
   "execution_count": 9,
   "id": "432d64fc-91c5-40ca-a0e0-a6e45e3fb20f",
   "metadata": {},
   "outputs": [
    {
     "name": "stdout",
     "output_type": "stream",
     "text": [
      "Data extraction complete. CSV file saved.\n"
     ]
    }
   ],
   "source": [
    "# single-crystalline TAPB-DMPDA\n",
    "import os\n",
    "import pandas as pd\n",
    "\n",
    "def extract_value(line):\n",
    "    return line.split(',')[2]\n",
    "\n",
    "start_folder = 18169\n",
    "end_folder = 18600\n",
    "\n",
    "base_path = \"./in situ USAXS/Single-Crystalline TAPB-DMPDA/Modeling\"\n",
    "data = {}\n",
    "\n",
    "for folder_num in range(start_folder, end_folder + 1):\n",
    "    folder_path = os.path.join(base_path, str(folder_num))\n",
    "    file_name = f\"{folder_num}-fit-parameters.txt\"\n",
    "    file_path = os.path.join(folder_path, file_name)\n",
    "\n",
    "    if os.path.exists(file_path):\n",
    "        with open(file_path, 'r') as file:\n",
    "            time_seconds = (folder_num - start_folder) * 10 + 60  # converting to time in seconds\n",
    "            folder_data = {'Frame Number': folder_num, 'Time (s)': time_seconds, 'Model Name': None}\n",
    "            for line in file:\n",
    "                if \"radius\" in line or \"length\" in line:\n",
    "                    parameter, _, value = line.strip().split(',')[:3]\n",
    "                    folder_data[parameter] = float(value)\n",
    "                elif line.startswith('model_name'):\n",
    "                    model_name = line.strip().split(',')[1]\n",
    "                    folder_data['Model Name'] = model_name\n",
    "            data[folder_num] = folder_data\n",
    "\n",
    "# create dataframe and save to CSV\n",
    "df = pd.DataFrame.from_dict(data, orient='index')\n",
    "df.to_csv('./in situ USAXS/Single-Crystalline TAPB-DMPDA/Modeling/Extracted_Values_SC.csv', index=False)\n",
    "\n",
    "print(\"Data extraction complete. CSV file saved.\")\n"
   ]
  },
  {
   "cell_type": "code",
   "execution_count": 10,
   "id": "b39c2aed-05c6-4d72-b9ac-4f89a92dcf17",
   "metadata": {
    "tags": []
   },
   "outputs": [
    {
     "name": "stdout",
     "output_type": "stream",
     "text": [
      "Data extraction complete. CSV file saved.\n"
     ]
    }
   ],
   "source": [
    "# polycrystalline TAPB-DMPDA\n",
    "import os\n",
    "import pandas as pd\n",
    "\n",
    "def extract_value(line):\n",
    "    return line.split(',')[2]\n",
    "\n",
    "start_folder = 18169\n",
    "end_folder = 18600\n",
    "\n",
    "base_path = \"./in situ USAXS/Polycrystalline TAPB-DMPDA/Modeling\"\n",
    "data = {}\n",
    "\n",
    "for folder_num in range(start_folder, end_folder + 1):\n",
    "    folder_path = os.path.join(base_path, str(folder_num))\n",
    "    file_name = f\"{folder_num}-fit-parameters.txt\"\n",
    "    file_path = os.path.join(folder_path, file_name)\n",
    "\n",
    "    if os.path.exists(file_path):\n",
    "        with open(file_path, 'r') as file:\n",
    "            time_seconds = (folder_num - start_folder) * 10 + 60  # converting to time in seconds\n",
    "            folder_data = {'Frame Number': folder_num, 'Time (s)': time_seconds, 'Model Name': None}\n",
    "            for line in file:\n",
    "                if \"radius\" in line or \"length\" in line:\n",
    "                    parameter, _, value = line.strip().split(',')[:3]\n",
    "                    folder_data[parameter] = float(value)\n",
    "                elif line.startswith('model_name'):\n",
    "                    model_name = line.strip().split(',')[1]\n",
    "                    folder_data['Model Name'] = model_name\n",
    "            data[folder_num] = folder_data\n",
    "\n",
    "# create dataframe and save to CSV\n",
    "df = pd.DataFrame.from_dict(data, orient='index')\n",
    "df.to_csv('./in situ USAXS/Polycrystalline TAPB-DMPDA/Modeling/Extracted_Values_PC.csv', index=False)\n",
    "\n",
    "print(\"Data extraction complete. CSV file saved.\")"
   ]
  },
  {
   "cell_type": "code",
   "execution_count": null,
   "id": "6dac34bd-1416-4e88-baf1-f69c0ef4def4",
   "metadata": {},
   "outputs": [],
   "source": []
  }
 ],
 "metadata": {
  "kernelspec": {
   "display_name": "Python 3 (ipykernel)",
   "language": "python",
   "name": "python3"
  },
  "language_info": {
   "codemirror_mode": {
    "name": "ipython",
    "version": 3
   },
   "file_extension": ".py",
   "mimetype": "text/x-python",
   "name": "python",
   "nbconvert_exporter": "python",
   "pygments_lexer": "ipython3",
   "version": "3.11.3"
  }
 },
 "nbformat": 4,
 "nbformat_minor": 5
}
