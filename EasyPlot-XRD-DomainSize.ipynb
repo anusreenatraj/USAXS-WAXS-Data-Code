{
 "cells": [
  {
   "cell_type": "code",
   "execution_count": null,
   "id": "764fbd04-5332-4f67-8b96-520983c6cbf9",
   "metadata": {
    "tags": []
   },
   "outputs": [],
   "source": [
    "# import all the libraries needed to run this code\n",
    "import pandas as pd\n",
    "import numpy as np\n",
    "import os, re, glob\n",
    "import matplotlib.cm as cm\n",
    "import matplotlib.pyplot as plt\n",
    "\n",
    "from scipy.optimize import curve_fit\n",
    "\n",
    "%matplotlib inline"
   ]
  },
  {
   "cell_type": "markdown",
   "id": "31817165-a081-4315-8474-b05a2f32af5e",
   "metadata": {
    "tags": []
   },
   "source": [
    "# File Sources"
   ]
  },
  {
   "cell_type": "code",
   "execution_count": null,
   "id": "4d7de47e-7d39-49e9-85c4-ff99a637c3a3",
   "metadata": {
    "tags": []
   },
   "outputs": [],
   "source": [
    "pre_rxn_mix = \"./in situ WAXS/Single-Crystalline TAPB-DMPDA - Standard Conditions/Pre Rxn Mix/\"\n",
    "rxn_folder =  \"./in situ WAXS/Single-Crystalline TAPB-DMPDA - Standard Conditions/Raw Data/an-3-17-1-try2/\"\n",
    "avg_save_loc = \"./in situ WAXS/Single-Crystalline TAPB-DMPDA - Standard Conditions/Background-Subtracted Data/\"\n",
    "# change folder paths as needed"
   ]
  },
  {
   "cell_type": "markdown",
   "id": "160127fa-86ec-485f-aed6-7a35f4f98cfb",
   "metadata": {
    "tags": []
   },
   "source": [
    "# Preprocessing of Data"
   ]
  },
  {
   "cell_type": "code",
   "execution_count": null,
   "id": "bbd19175-05c2-4c4a-a4b5-44b751bda280",
   "metadata": {
    "tags": []
   },
   "outputs": [],
   "source": [
    "# background_dfs is an array that stores respective averaged backgrounds for each pre-rxn mix\n",
    "background_dfs = []\n",
    "\n",
    "directories = os.listdir(pre_rxn_mix)\n",
    "\n",
    "for directory in directories:\n",
    "    if \".DS_Store\" not in directory:\n",
    "        all_files = glob.glob(os.path.join(f\"{pre_rxn_mix+directory}/plot_files/\",\"*.txt\"))\n",
    "        df = pd.concat((pd.read_csv(f, delimiter=\"\\t\", skiprows=48) for f in all_files)) \n",
    "        # first 48 rows are metadata in all pre-rxn mix files\n",
    "        df = df.rename(columns={\"I (1/cm)\": \"I (1/cm)_bg\"})\n",
    "        background_dfs.append(df.groupby([\"q (1/A)\"])[\"I (1/cm)_bg\"].mean().reset_index())"
   ]
  },
  {
   "cell_type": "code",
   "execution_count": null,
   "id": "2857184b-0a03-4475-ab20-9a5681da9a70",
   "metadata": {
    "tags": []
   },
   "outputs": [],
   "source": [
    "# describe the statistical properties of each column\n",
    "background_dfs[0].describe()"
   ]
  },
  {
   "cell_type": "code",
   "execution_count": null,
   "id": "bb0eba42-09ed-4c18-9c5a-42ea31fb0924",
   "metadata": {
    "tags": []
   },
   "outputs": [],
   "source": [
    "# plot a given position in the background_dfs array on a loglog scale\n",
    "background_dfs[0].plot(x=\"q (1/A)\", y=\"I (1/cm)_bg\", loglog = True)"
   ]
  },
  {
   "cell_type": "code",
   "execution_count": null,
   "id": "ac2940b3-97dd-4e07-9698-ea8803733e58",
   "metadata": {
    "tags": []
   },
   "outputs": [],
   "source": [
    "# ensure data is stored properly in the array background_dfs\n",
    "print(background_dfs)"
   ]
  },
  {
   "cell_type": "code",
   "execution_count": null,
   "id": "ee78a535-ca1c-4796-a401-d6744c563ca4",
   "metadata": {
    "tags": []
   },
   "outputs": [],
   "source": [
    "# get each rxn folder individually to subtract averaged background\n",
    "all_rxn_files = glob.glob(os.path.join(f\"{rxn_folder}plot_files/\",\"*.txt\"))\n",
    "\n",
    "for f in all_rxn_files:\n",
    "    print (f)\n",
    "    df_rxn = pd.read_csv(f, delimiter=\"\\t\", skiprows=48)\n",
    "    # print (df_rxn.columns)\n",
    "    # print (f)\n",
    "    \n",
    "    # try/except block accounts for some data files having 48 rows of metadata \n",
    "    # and others having 49 or 50 rows of metadata\n",
    "    try:\n",
    "        df_rxn = pd.read_csv(f, delimiter=\"\\t\", skiprows=48)\n",
    "        test_df = df_rxn.join(background_dfs[0].set_index(\"q (1/A)\"), on=\"q (1/A)\", how=\"left\")\n",
    "    except:\n",
    "        df_rxn = pd.read_csv(f, delimiter=\"\\t\", skiprows=49)\n",
    "        test_df = df_rxn.join(background_dfs[0].set_index(\"q (1/A)\"), on=\"q (1/A)\", how=\"left\")\n",
    "        try:\n",
    "            df_rxn = pd.read_csv(f, delimiter=\"\\t\", skiprows=50)\n",
    "            test_df = df_rxn.join(background_dfs[0].set_index(\"q (1/A)\"), on=\"q (1/A)\", how=\"left\")\n",
    "        except:\n",
    "            pass\n",
    "    test_df[\"I (1/cm) sub\"] = test_df[\"I (1/cm)\"] - test_df[\"I (1/cm)_bg\"]\n",
    "    filename_without_extension = os.path.splitext(os.path.basename(f))[0]\n",
    "    csv_filepath = os.path.join(avg_save_loc, \"plot_files\", f\"{filename_without_extension}.csv\")\n",
    "    test_df.to_csv(csv_filepath, index=False)  "
   ]
  },
  {
   "cell_type": "code",
   "execution_count": null,
   "id": "4a817d76-c6af-4093-8e02-d760e996a8d1",
   "metadata": {
    "tags": []
   },
   "outputs": [],
   "source": [
    "test_df.describe()"
   ]
  },
  {
   "cell_type": "code",
   "execution_count": null,
   "id": "578ea3a9-128e-4e63-a632-819a62db5a6b",
   "metadata": {
    "tags": []
   },
   "outputs": [],
   "source": [
    "test_df.head()"
   ]
  },
  {
   "cell_type": "markdown",
   "id": "8840562e-fc78-43e4-bd5b-2d6882b8d2b0",
   "metadata": {},
   "source": [
    "# Import and Plot XRD Data"
   ]
  },
  {
   "cell_type": "code",
   "execution_count": null,
   "id": "03a3129d-4f2d-40cd-b53e-f92ff4e33f8e",
   "metadata": {
    "tags": []
   },
   "outputs": [],
   "source": [
    "# import in situ SAXs/WAXS data into the array comp_data\n",
    "dirarray1 = os.scandir(avg_save_loc)\n",
    "comp_data = []\n",
    "\n",
    "for jj, entry in enumerate(dirarray1):\n",
    "    if entry.is_dir():\n",
    "        a = os.path.join(avg_save_loc, entry.name)\n",
    "        dirarray = os.scandir(a)\n",
    "        # Get files to import\n",
    "        files, number = [], []\n",
    "        for iii, file_entry in enumerate(dirarray):\n",
    "            if not file_entry.is_dir():\n",
    "                if re.search('\\.csv$', file_entry.name):\n",
    "                    if re.search('hs102', file_entry.name):\n",
    "                        files.append(file_entry.name)\n",
    "                        temp1 = re.search('hs102', file_entry.name).start()\n",
    "                        base = file_entry.name[:temp1]\n",
    "                        number.append(file_entry.name[temp1+6:temp1+14])\n",
    "\n",
    "        n_samples = len(number)\n",
    "\n",
    "        # import all the files\n",
    "        sa = []\n",
    "        for ii in range(n_samples):\n",
    "            WAXS_path = os.path.join(a, base + 'hs102_' + number[ii] + '.csv')\n",
    "            MAXS_path = os.path.join(a, base + 'hs103_' + number[ii] + '.csv')\n",
    "            SAXS_path = os.path.join(a, base + 'hs104_' + number[ii] + '.csv')\n",
    "            WAXS_df = pd.read_csv(WAXS_path)\n",
    "            MAXS_df = pd.read_csv(MAXS_path)\n",
    "            SAXS_df = pd.read_csv(SAXS_path)\n",
    "            print (MAXS_path)\n",
    "            \n",
    "            # append the I and Q values to a structure\n",
    "            sa.append({\n",
    "                'WAXSQ': WAXS_df[\"q (1/A)\"],\n",
    "                'WAXSData': WAXS_df[\"I (1/cm) sub\"],\n",
    "                'MAXSQ': MAXS_df[\"q (1/A)\"],\n",
    "                'MAXSData': MAXS_df[\"I (1/cm) sub\"],\n",
    "                'SAXSQ': SAXS_df[\"q (1/A)\"],\n",
    "                'SAXSData': SAXS_df[\"I (1/cm) sub\"],\n",
    "                'num': number[ii]\n",
    "            })\n",
    "\n",
    "        comp_data.append({'st': sa, 'name': entry.name})"
   ]
  },
  {
   "cell_type": "code",
   "execution_count": null,
   "id": "3b901320-7c9a-475a-8e01-49ba6afbeb47",
   "metadata": {
    "tags": []
   },
   "outputs": [],
   "source": [
    "# plotting data\n",
    "import matplotlib.colors as mcolors\n",
    "n = 256 # change as needed\n",
    "color_indices = np.sqrt(np.linspace(0, 1, n))\n",
    "colors = plt.cm.rainbow(color_indices)\n",
    "cmap = mcolors.ListedColormap(colors)\n",
    "\n",
    "ii = 0\n",
    "\n",
    "# define Data Range Here\n",
    "beg_SAXS = 0\n",
    "end_SAXS = 1070\n",
    "\n",
    "beg_MAXS = 0\n",
    "end_MAXS = 486\n",
    "\n",
    "beg_WAXS = 0\n",
    "end_WAXS = 1002\n",
    "\n",
    "\n",
    "# plot q against I for a given range of data in specified intervals\n",
    "for iii in range(10, n, 10):\n",
    "    \n",
    "    # plots for SAXS region\n",
    "    q_SAXS = comp_data[ii]['st'][iii]['SAXSQ'][beg_SAXS:end_SAXS]\n",
    "\n",
    "    data_SAXS = comp_data[ii]['st'][iii]['SAXSData'][beg_SAXS:end_SAXS]\n",
    "    # data_norm_SAXS = (data_SAXS - np.min(data_SAXS)) / (np.max(data_SAXS) - np.min(data_SAXS))\n",
    "\n",
    "    plt.loglog((q_SAXS), (data_SAXS+iii/100), color=colors[iii])\n",
    "\n",
    "    # plots for MAXS region\n",
    "    q_MAXS = comp_data[ii]['st'][iii]['MAXSQ'][beg_MAXS:end_MAXS]\n",
    "\n",
    "    data_MAXS = comp_data[ii]['st'][iii]['MAXSData'][beg_MAXS:end_MAXS]\n",
    "    data_norm_MAXS = (data_MAXS - np.min(data_MAXS)) / (np.max(data_MAXS) - np.min(data_MAXS))\n",
    "\n",
    "    plt.loglog((q_MAXS), (data_norm_MAXS+iii/100), color=colors[iii])\n",
    "\n",
    "    # plots for WAXS region\n",
    "    q_WAXS = comp_data[ii]['st'][iii]['WAXSQ'][beg_WAXS:end_WAXS]\n",
    "\n",
    "    data_WAXS = comp_data[ii]['st'][iii]['WAXSData'][beg_WAXS:end_WAXS]\n",
    "    data_norm_WAXS = (data_WAXS - np.min(data_WAXS)) / (np.max(data_WAXS) - np.min(data_WAXS))\n",
    "    plt.loglog((q_WAXS), (data_norm_WAXS+iii/100), color=colors[iii])\n",
    "\n",
    "plt.xlabel('q (Å$^{-1}$)', fontsize=24, fontname='Arial')\n",
    "plt.ylabel('Intensity (a.u.)', fontsize=24, fontname='Arial')\n",
    "plt.xticks(fontsize=20, fontname='Arial')\n",
    "plt.yticks(fontsize=20, fontname='Arial')\n",
    "plt.tick_params(direction='out', length=6, width=2)\n",
    "ax = plt.gca()\n",
    "ax.spines['top'].set_linewidth(2)\n",
    "ax.spines['right'].set_linewidth(2)\n",
    "ax.spines['left'].set_linewidth(2)\n",
    "ax.spines['bottom'].set_linewidth(2)\n",
    "plt.tight_layout()\n",
    "plt.savefig(f\"{base}10_n_10_plot_full.png\", transparent=True, dpi=600)\n",
    "plt.show()"
   ]
  },
  {
   "cell_type": "markdown",
   "id": "175b4876-990a-46a2-88e5-93a8d48db77a",
   "metadata": {},
   "source": [
    "## Generate Plot for SAXS region"
   ]
  },
  {
   "cell_type": "code",
   "execution_count": null,
   "id": "956e29b6-f35b-44d8-8181-16186f168cb4",
   "metadata": {
    "tags": []
   },
   "outputs": [],
   "source": [
    "for iii in range(10, n, 10): # change as needed\n",
    "    # plots for SAXS region\n",
    "    q_SAXS = comp_data[ii]['st'][iii]['SAXSQ'][beg_SAXS:end_SAXS]\n",
    "\n",
    "    data_SAXS = comp_data[ii]['st'][iii]['SAXSData'][beg_SAXS:end_SAXS]\n",
    "    data_norm_SAXS = (data_SAXS - np.min(data_SAXS)) / (np.max(data_SAXS) - np.min(data_SAXS))\n",
    "\n",
    "    plt.loglog((q_SAXS), (data_SAXS + iii / 100), color=colors[iii])\n",
    "    \n",
    "\n",
    "plt.xlabel('q (Å$^{-1}$)', fontsize=24, fontname='Arial')\n",
    "plt.ylabel('Intensity (a.u.)', fontsize=24, fontname='Arial')\n",
    "plt.xticks(fontsize=20, fontname='Arial')\n",
    "plt.yticks(fontsize=20, fontname='Arial')\n",
    "plt.yticks([])\n",
    "plt.tick_params(axis='x', which='both', direction='out', length=6, width=2, labelsize=20, pad=5)\n",
    "ax = plt.gca()\n",
    "ax.spines['top'].set_linewidth(2)\n",
    "ax.spines['right'].set_linewidth(2)\n",
    "ax.spines['left'].set_linewidth(2)\n",
    "ax.spines['bottom'].set_linewidth(2)\n",
    "plt.tight_layout()\n",
    "plt.savefig(f\"{base}10_n_10_plot_SAXS.png\", transparent=True, dpi=600) # change file name as needed\n",
    "plt.show()"
   ]
  },
  {
   "cell_type": "markdown",
   "id": "e942f6e4-b1be-4009-aafc-1b38fc1b14de",
   "metadata": {},
   "source": [
    "## Generate Plot for MAXS Region"
   ]
  },
  {
   "cell_type": "code",
   "execution_count": null,
   "id": "642143e4-2f92-473d-af39-63de047f02ea",
   "metadata": {
    "tags": []
   },
   "outputs": [],
   "source": [
    "for iii in range(1, n, 10): # change as needed \n",
    "    # plots for MAXS region\n",
    "    q_MAXS = comp_data[ii]['st'][iii]['MAXSQ'][beg_MAXS:end_MAXS]\n",
    "\n",
    "    data_MAXS = comp_data[ii]['st'][iii]['MAXSData'][beg_MAXS:end_MAXS]\n",
    "    data_norm_MAXS = (data_MAXS - np.min(data_MAXS)) / (np.max(data_MAXS) - np.min(data_MAXS))\n",
    "    plt.plot(q_MAXS, data_norm_MAXS + iii / 100, color=colors[iii])\n",
    "   \n",
    "plt.xlabel('q (Å$^{-1}$)', fontsize=24, fontname='Arial')\n",
    "plt.ylabel('Intensity (a.u.)', fontsize=24, fontname='Arial')\n",
    "plt.xticks(fontsize=20, fontname='Arial')\n",
    "plt.yticks(fontsize=20, fontname='Arial')\n",
    "plt.yticks([])\n",
    "plt.tick_params(axis='x', which='both', direction='out', length=6, width=2, labelsize=20, pad=5)\n",
    "ax = plt.gca()\n",
    "ax.spines['top'].set_linewidth(2)\n",
    "ax.spines['right'].set_linewidth(2)\n",
    "ax.spines['left'].set_linewidth(2)\n",
    "ax.spines['bottom'].set_linewidth(2)\n",
    "plt.tight_layout()\n",
    "plt.savefig(f\"{base}1_n_10_plot_MAXS.png\", transparent=True, dpi=600) # change file name as needed\n",
    "plt.show()"
   ]
  },
  {
   "cell_type": "markdown",
   "id": "f35b068f-8f31-48a6-96fc-d48adc5df563",
   "metadata": {
    "tags": []
   },
   "source": [
    "## Generate Plot for WAXS Region"
   ]
  },
  {
   "cell_type": "code",
   "execution_count": null,
   "id": "45485fd1-38a1-402e-87ee-77a65f788375",
   "metadata": {
    "tags": []
   },
   "outputs": [],
   "source": [
    "for iii in range(1, n, 10): # change as needed\n",
    "    \n",
    "    # plot for WAXS region\n",
    "    q_WAXS = comp_data[ii]['st'][iii]['WAXSQ'][beg_WAXS:end_WAXS]\n",
    "\n",
    "    data_WAXS = comp_data[ii]['st'][iii]['WAXSData'][beg_WAXS:end_WAXS]\n",
    "    data_norm_WAXS = (data_WAXS - np.min(data_WAXS)) / (np.max(data_WAXS) - np.min(data_WAXS))\n",
    "\n",
    "    plt.plot(q_WAXS, data_norm_WAXS + iii / 100, color=colors[iii])\n",
    "\n",
    "plt.xlabel('q (Å$^{-1}$)', fontsize=24, fontname='Arial', labelpad=5)\n",
    "plt.ylabel('Intensity (a.u.)', fontsize=24, fontname='Arial', labelpad=5)\n",
    "plt.xticks(fontsize=20, fontname='Arial')\n",
    "plt.yticks(fontsize=20, fontname='Arial')\n",
    "plt.yticks([])\n",
    "plt.tick_params(axis='x', which='both', direction='in', length=6, width=2, labelsize=20, pad=5)\n",
    "ax = plt.gca()\n",
    "ax.spines['top'].set_linewidth(2)\n",
    "ax.spines['right'].set_linewidth(2)\n",
    "ax.spines['left'].set_linewidth(2)\n",
    "ax.spines['bottom'].set_linewidth(2)\n",
    "plt.tight_layout()\n",
    "plt.savefig(f\"{base}1_n_10_plot_WAXS.png\", transparent=True, dpi=600) # change file name as needed\n",
    "plt.show()"
   ]
  },
  {
   "cell_type": "markdown",
   "id": "84aadb19-6bc8-4e10-ac92-3ef2b2df3a09",
   "metadata": {},
   "source": [
    "# Lorentzian Fit "
   ]
  },
  {
   "cell_type": "code",
   "execution_count": null,
   "id": "dd4119f2-171e-48bb-ac92-55c316a6a0c6",
   "metadata": {
    "tags": []
   },
   "outputs": [],
   "source": [
    "# define the function \"lorenzFit\"\n",
    "def lorentzFit(x, w, x0, A, c):\n",
    "        return A / np.pi * (w / 2) / ((x - x0) ** 2 + (w / 2) ** 2) + c"
   ]
  },
  {
   "cell_type": "code",
   "execution_count": null,
   "id": "89fbb1f5-5fa6-445a-aaf5-023fa91cbf3a",
   "metadata": {},
   "outputs": [],
   "source": [
    "# get normalized <100> FWHM\n",
    "\n",
    "# define start and end indices for Lorentzian fit of MAXS data\n",
    "lorentzian_start = 34\n",
    "lorentzian_end = 55\n",
    "ii = 0\n",
    "\n",
    "# save FWHM values into this vector\n",
    "fwhm_values = []\n",
    "\n",
    "# loop through data in specified range\n",
    "for iii in range(0, 500):\n",
    "    # calculate q and theta2\n",
    "    q = comp_data[ii]['st'][iii]['MAXSQ'][lorentzian_start:lorentzian_end]\n",
    "    theta2 = np.arcsin(q * 0.73 / (4 * np.pi)) * 2\n",
    "    \n",
    "    # normalize background-subtracted intensity\n",
    "    bkgsubI = comp_data[ii]['st'][iii]['MAXSData'][lorentzian_start:lorentzian_end]\n",
    "    normalized_intensity = (bkgsubI - np.min(bkgsubI)) / (np.max(bkgsubI) - np.min(bkgsubI))\n",
    "    \n",
    "    # define initial guesses and bounds for curve fitting\n",
    "    p0 = [0.0002, 0.023, 1, 0]\n",
    "    bounds = ([0.000003, -0.0002, -1, -0.1], [0.2, 0.03, 1000, 0.1])\n",
    "\n",
    "    # perform the curve fitting\n",
    "    popt, _ = curve_fit(lorentzFit, theta2, normalized_intensity, p0=p0, bounds=bounds)\n",
    "    w_fit, _, _, _ = popt  # Extract the FWHM value\n",
    "\n",
    "    # append FWHM values to the list\n",
    "    fwhm_values.append(w_fit)\n",
    "\n",
    "# convert list of FWHM values to NumPy array for easier manipulation\n",
    "fwhm_values = np.array(fwhm_values)\n",
    "\n",
    "# find minimum and maximum FWHM values\n",
    "min_fwhm = np.min(fwhm_values)\n",
    "max_fwhm = np.max(fwhm_values)\n",
    "\n",
    "# normalize the FWHM values using the specified formula\n",
    "normalized_fwhm_values = (fwhm_values - min_fwhm) / (max_fwhm - min_fwhm)"
   ]
  },
  {
   "cell_type": "code",
   "execution_count": null,
   "id": "10c2d748-51fc-4986-8bb4-7601451934b4",
   "metadata": {
    "tags": []
   },
   "outputs": [],
   "source": [
    "#get crystalline domain sizes using Scherrer equation\n",
    "\n",
    "# define start and end indices for Lorentzian fit of MAXS data\n",
    "lorentzian_start = 34\n",
    "lorentzian_end = 55\n",
    "ii = 0\n",
    "\n",
    "# save data into this vector\n",
    "transformed_fit = np.zeros(len(range(0, 500, 1)))\n",
    "# print (comp_data[ii])\n",
    "\n",
    "# loop through range\n",
    "for jjj, iii in enumerate(range(0, 500, 1)):\n",
    "    lorentz_fit = []\n",
    "    # print (iii)\n",
    "    \n",
    "    # calculate theta\n",
    "    q = comp_data[ii]['st'][iii]['MAXSQ'][lorentzian_start:lorentzian_end]\n",
    "    theta2 = np.arcsin(q * 0.73 / (4 * np.pi)) * 2\n",
    "    \n",
    "    # normalize background\n",
    "    bkgsubI = comp_data[ii]['st'][iii]['MAXSData'][lorentzian_start:lorentzian_end]\n",
    "    normalized = (bkgsubI - np.min(bkgsubI)) / (np.max(bkgsubI) - np.min(bkgsubI))\n",
    "    #print (bkgsubI)\n",
    "    \n",
    "    # set boundary conditions\n",
    "    lorentz_width = [0.0002, 0.000003, 0.2]\n",
    "    lorentz_height = [1, -1, 1000]\n",
    "    lorentz_position = [0.023, -0.0002, 0.03]\n",
    "    offset = [0, -0.1, 0.1]\n",
    "    \n",
    "    # give inputs to function\n",
    "    lb = [lorentz_width[1], lorentz_position[1], lorentz_height[1], offset[1]]\n",
    "    ub = [lorentz_width[2], lorentz_position[2], lorentz_height[2], offset[2]]\n",
    "    a0 = [lorentz_width[0], lorentz_position[0], lorentz_height[0], offset[0]]\n",
    "    \n",
    "    # define initial guesses and bounds for curve fitting\n",
    "    p0 = [0.0002, 0.023, 1, 0]  \n",
    "    bounds = ([0.000003, -0.0002, -1, -0.1], [0.2, 0.03, 1000, 0.1]) \n",
    "\n",
    "    # print (normalized)\n",
    "    \n",
    "    # perform the curve fitting\n",
    "    popt, _ = curve_fit(lorentzFit, theta2, normalized, p0=p0, bounds=bounds)\n",
    "    w_fit, x0_fit, A_fit, c_fit = popt\n",
    "\n",
    "    t = 0.9 * 0.73 / w_fit / np.cos(x0_fit / 2) # K value is 0.9 based on Scherrer equation\n",
    "\n",
    "    # save values\n",
    "    transformed_fit[jjj] = t"
   ]
  },
  {
   "cell_type": "code",
   "execution_count": null,
   "id": "8370a754-2d75-4025-aa72-9a40395d58d3",
   "metadata": {
    "tags": []
   },
   "outputs": [],
   "source": [
    "# plot crystalline domain size as a function of time\n",
    "frame_numbers = np.arange(0, 500, 1)  # generate an array of frame numbers\n",
    "time_in_minutes = frame_numbers * 5 / 60  # convert frame numbers to time in minutes\n",
    "\n",
    "plt.xlim(left=0, right=max(time_in_minutes))\n",
    "plt.plot(time_in_minutes, transformed_fit, color='#D7191C')  \n",
    "plt.xlabel('Time (min)', fontsize=24, fontname='Arial', labelpad=5)  \n",
    "plt.ylabel('Crystalline Domain Size (Å)', fontsize=24, fontname='Arial', labelpad=5) \n",
    "plt.ylim(500, 620) # adjust this range as needed\n",
    "y_ticks = np.arange(520, 610, 20)  # adjust this range as needed\n",
    "plt.yticks(y_ticks)\n",
    "plt.tick_params(axis='both', which='both', direction='out', length=6, width=2, labelsize=20, pad=5)  \n",
    "ax = plt.gca()\n",
    "ax.spines['top'].set_linewidth(2)\n",
    "ax.spines['right'].set_linewidth(2)\n",
    "ax.spines['left'].set_linewidth(2)\n",
    "ax.spines['bottom'].set_linewidth(2)\n",
    "plt.tight_layout()\n",
    "plt.savefig(f\"{base}Domain_Size_plot_WAXS.png\", transparent=True, dpi=600) # change file name as needed\n",
    "plt.show()"
   ]
  }
 ],
 "metadata": {
  "kernelspec": {
   "display_name": "Python 3 (ipykernel)",
   "language": "python",
   "name": "python3"
  },
  "language_info": {
   "codemirror_mode": {
    "name": "ipython",
    "version": 3
   },
   "file_extension": ".py",
   "mimetype": "text/x-python",
   "name": "python",
   "nbconvert_exporter": "python",
   "pygments_lexer": "ipython3",
   "version": "3.11.3"
  }
 },
 "nbformat": 4,
 "nbformat_minor": 5
}
